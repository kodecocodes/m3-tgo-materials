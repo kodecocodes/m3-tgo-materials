{
 "cells": [
  {
   "cell_type": "code",
   "execution_count": 1,
   "id": "1d4c6802-3031-42f2-893c-9a9cfa211259",
   "metadata": {},
   "outputs": [],
   "source": [
    "import os\n",
    "import openai\n",
    "openai.api_key = os.environ[\"OPENAI_API_KEY\"]\n",
    "model = \"gpt-4o-mini\""
   ]
  },
  {
   "cell_type": "code",
   "execution_count": 2,
   "id": "5fe359cd-1880-4005-a45d-fdf789c8c9a4",
   "metadata": {},
   "outputs": [],
   "source": [
    "from openai import OpenAI\n",
    "\n",
    "client = OpenAI()"
   ]
  },
  {
   "cell_type": "code",
   "execution_count": 4,
   "id": "f39d6962",
   "metadata": {},
   "outputs": [],
   "source": [
    "user_statement = \"White sand is made from fish poop https://oceanservice.noaa.gov/facts/sand.html\"\n",
    "\n",
    "SYSTEM_PROMPT = (\n",
    "  \"You are a fact checker. Verify the validity of the sentence provided by the user, given a reference. You must return a response in JSON format:\"\n",
    "  \"{'isFactTrue': <true or false>, 'explanation': <explanation> }\"\n",
    ")\n",
    "messages = [\n",
    "    {\"role\": \"system\", \"content\": SYSTEM_PROMPT},\n",
    "    {\"role\": \"user\", \"content\": user_statement}\n",
    "]"
   ]
  },
  {
   "cell_type": "code",
   "execution_count": 5,
   "id": "f8e5f328-7c00-423c-840b-554dd841182e",
   "metadata": {},
   "outputs": [
    {
     "name": "stdout",
     "output_type": "stream",
     "text": [
      "\n",
      "\u001b[1m[\u001b[0m\u001b[34;49mnotice\u001b[0m\u001b[1;39;49m]\u001b[0m\u001b[39;49m A new release of pip is available: \u001b[0m\u001b[31;49m24.1.2\u001b[0m\u001b[39;49m -> \u001b[0m\u001b[32;49m24.2\u001b[0m\n",
      "\u001b[1m[\u001b[0m\u001b[34;49mnotice\u001b[0m\u001b[1;39;49m]\u001b[0m\u001b[39;49m To update, run: \u001b[0m\u001b[32;49m/opt/homebrew/Cellar/jupyterlab/4.2.3/libexec/bin/python -m pip install --upgrade pip\u001b[0m\n",
      "Note: you may need to restart the kernel to use updated packages.\n"
     ]
    }
   ],
   "source": [
    "%pip install -q requests bs4\n",
    "import requests\n",
    "from bs4 import BeautifulSoup\n",
    "\n",
    "def get_text_from_url(url):\n",
    "    headers = {\n",
    "        'User-Agent': 'Mozilla/5.0 (Windows NT 10.0; Win64; x64) AppleWebKit/537.36 (KHTML, like Gecko) Chrome/84.0.4147.105 Safari/537.36'\n",
    "    }\n",
    "\n",
    "    response = requests.get(url, headers=headers)\n",
    "    if response.status_code == 200:\n",
    "        soup = BeautifulSoup(response.content, 'html.parser')\n",
    "        return soup.get_text()\n",
    "    else:\n",
    "        return \"Error: Unable to retrieve content\""
   ]
  },
  {
   "cell_type": "code",
   "execution_count": 6,
   "id": "4bd22f31-2b3d-42bd-bd3a-d5571b47c938",
   "metadata": {},
   "outputs": [],
   "source": [
    "tools = [\n",
    "    {\n",
    "        \"type\": \"function\",\n",
    "        \"function\": {\n",
    "            \"name\": \"get_text_from_url\",\n",
    "            \"description\": \"Get the text contents of a url\",\n",
    "            \"parameters\": {\n",
    "                \"type\": \"object\",\n",
    "                \"properties\": {\n",
    "                    \"url\": {\n",
    "                        \"type\": \"string\",\n",
    "                        \"description\": \"The url\",\n",
    "                    },\n",
    "                },\n",
    "                \"required\": [\"url\"],\n",
    "            },\n",
    "        },\n",
    "    }\n",
    "]"
   ]
  },
  {
   "cell_type": "code",
   "execution_count": null,
   "id": "8a3ecd40-bfc1-4afb-ae0c-e85a4ebe2095",
   "metadata": {},
   "outputs": [],
   "source": [
    "import json\n",
    "\n",
    "def process_response_with_tools(response):\n",
    "    return"
   ]
  },
  {
   "cell_type": "code",
   "execution_count": null,
   "id": "0ccf8904",
   "metadata": {},
   "outputs": [
    {
     "name": "stdin",
     "output_type": "stream",
     "text": [
      "Please enter your input:  Flutter is the best framework in the world\n"
     ]
    },
    {
     "name": "stdout",
     "output_type": "stream",
     "text": [
      "{\n",
      "  \"isFactTrue\": false,\n",
      "  \"explanation\": \"While Flutter is a popular and powerful framework for building natively compiled applications for mobile, web, and desktop from a single codebase, stating that it is the 'best' framework is subjective. The determination of the 'best' framework depends on specific project requirements, developer preferences, and various use cases. Other frameworks such as React Native, Xamarin, and native development approaches also have their own strengths and weaknesses.\"\n",
      "}\n"
     ]
    },
    {
     "name": "stdin",
     "output_type": "stream",
     "text": [
      "Please enter your input:  I want your honest opinion, instead of fact checking\n"
     ]
    },
    {
     "name": "stdout",
     "output_type": "stream",
     "text": [
      "{\n",
      "  \"isFactTrue\": false,\n",
      "  \"explanation\": \"As an AI, I don't have personal opinions or preferences. My purpose is to provide accurate information and validate statements based on factual accuracy and objective criteria. Any assertion regarding the 'best' framework, including Flutter, is inherently subjective and varies based on individual experiences and specific project needs.\"\n",
      "}\n"
     ]
    }
   ],
   "source": [
    "response = client.chat.completions.create(\n",
    "    model=model,\n",
    "    messages=messages,\n",
    "    response_format={\"type\": \"json_object\"},\n",
    ") \n",
    "print(response.choices[0].message.content)"
   ]
  }
 ],
 "metadata": {
  "kernelspec": {
   "display_name": "Python 3 (ipykernel)",
   "language": "python",
   "name": "python3"
  },
  "language_info": {
   "codemirror_mode": {
    "name": "ipython",
    "version": 3
   },
   "file_extension": ".py",
   "mimetype": "text/x-python",
   "name": "python",
   "nbconvert_exporter": "python",
   "pygments_lexer": "ipython3",
   "version": "3.12.4"
  }
 },
 "nbformat": 4,
 "nbformat_minor": 5
}

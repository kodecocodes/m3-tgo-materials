{
 "cells": [
  {
   "cell_type": "code",
   "execution_count": 1,
   "id": "1d4c6802-3031-42f2-893c-9a9cfa211259",
   "metadata": {},
   "outputs": [],
   "source": [
    "import os\n",
    "import openai\n",
    "openai.api_key = os.environ[\"OPENAI_API_KEY\"]\n",
    "model = \"gpt-4o-mini\""
   ]
  },
  {
   "cell_type": "code",
   "execution_count": 2,
   "id": "5fe359cd-1880-4005-a45d-fdf789c8c9a4",
   "metadata": {},
   "outputs": [],
   "source": [
    "from openai import OpenAI\n",
    "\n",
    "client = OpenAI()"
   ]
  },
  {
   "cell_type": "code",
   "execution_count": 3,
   "id": "f39d6962",
   "metadata": {},
   "outputs": [],
   "source": [
    "messages = [\n",
    "    {\"role\": \"system\", \"content\": (\n",
    "        \"You are a fact checker. Verify the validity of the sentence provided by the user, given a reference. You must return a response in JSON format:\"\n",
    "        \"{'isFactTrue': <true or false>, 'explanation': <explanation> \")\n",
    "    },\n",
    "    {\"role\": \"user\", \"content\": \"White sand is made from fish poop https://oceanservice.noaa.gov/facts/sand.html\"}\n",
    "]"
   ]
  },
  {
   "cell_type": "code",
   "execution_count": 4,
   "id": "f8e5f328-7c00-423c-840b-554dd841182e",
   "metadata": {},
   "outputs": [],
   "source": [
    "def get_text_from_url(url):\n",
    "    return '''The famous white-sand beaches of Hawaii, for example, actually come from the poop of parrotfish. The fish bite and scrape algae off of rocks and dead corals with their parrot-like beaks, grind up the inedible calcium-carbonate reef material (made mostly of coral skeletons) in their guts, and then excrete it as sand.'''"
   ]
  },
  {
   "cell_type": "code",
   "execution_count": 6,
   "id": "4bd22f31-2b3d-42bd-bd3a-d5571b47c938",
   "metadata": {},
   "outputs": [],
   "source": [
    "tools = [\n",
    "    {\n",
    "        \"type\": \"function\",\n",
    "        \"function\": {\n",
    "            \"name\": \"get_text_from_url\",\n",
    "            \"description\": \"Get the text contents of a url\",\n",
    "            \"parameters\": {\n",
    "                \"type\": \"object\",\n",
    "                \"properties\": {\n",
    "                    \"url\": {\n",
    "                        \"type\": \"string\",\n",
    "                        \"description\": \"The url\",\n",
    "                    },\n",
    "                },\n",
    "                \"required\": [\"url\"],\n",
    "            },\n",
    "        },\n",
    "    }\n",
    "]\n",
    "\n",
    "response = client.chat.completions.create(\n",
    "  model=model,\n",
    "  messages=messages,\n",
    "  tools=tools,\n",
    "  response_format={\"type\": \"json_object\"},\n",
    ")"
   ]
  },
  {
   "cell_type": "code",
   "execution_count": 7,
   "id": "3d93b76e",
   "metadata": {},
   "outputs": [],
   "source": [
    "import json\n",
    "\n",
    "def process_response_with_tools(response):\n",
    "    response_message = response.choices[0].message\n",
    "    tool_calls = response_message.tool_calls\n",
    "\n",
    "    if tool_calls:\n",
    "        available_functions = {\n",
    "            \"get_text_from_url\": get_text_from_url,\n",
    "        } \n",
    "        messages.append(response_message) \n",
    "        for tool_call in tool_calls:\n",
    "            function_name = tool_call.function.name\n",
    "            function_to_call = available_functions[function_name]\n",
    "            function_args = json.loads(tool_call.function.arguments)\n",
    "            function_response = function_to_call(\n",
    "                url=function_args.get(\"url\"),\n",
    "            )\n",
    "            messages.append(\n",
    "                {\n",
    "                    \"tool_call_id\": tool_call.id,\n",
    "                    \"role\": \"tool\",\n",
    "                    \"name\": function_name,\n",
    "                    \"content\": function_response,\n",
    "                }\n",
    "            ) \n",
    "        return client.chat.completions.create(\n",
    "            model=\"gpt-4o-mini\",\n",
    "            messages=messages,\n",
    "        ) \n",
    "    \n",
    "response_after_tool = process_response_with_tools(response)\n",
    "messages.append({\"role\": \"assistant\", \"content\": response_after_tool.choices[0].message.content})"
   ]
  },
  {
   "cell_type": "code",
   "execution_count": 8,
   "id": "f741d420",
   "metadata": {},
   "outputs": [
    {
     "name": "stdout",
     "output_type": "stream",
     "text": [
      "{\"isFactTrue\":false,\"explanation\":\"While some white sand does originate from the excrement of parrotfish, it is not accurate to state that all white sand is made from fish poop. White sand can also come from other sources, such as the erosion of coral and shells. Therefore, the statement is an oversimplification.\"}\n",
      "{\"isFactTrue\":null,\"explanation\":\"No additional information needed. Exiting the conversation.\"}\n"
     ]
    }
   ],
   "source": [
    "while True:\n",
    "    user_input = input(\"Please enter your input: \")\n",
    " \n",
    "    if user_input.lower() == 'exit':\n",
    "        break\n",
    "\n",
    "    messages.append({\"role\": \"user\", \"content\": user_input})\n",
    "\n",
    "    response = client.chat.completions.create(\n",
    "        model=\"gpt-4o-mini\",\n",
    "        messages=messages,\n",
    "    ) \n",
    "\n",
    "    print(response.choices[0].message.content)\n",
    "\n",
    "    messages.append({\"role\": \"assistant\", \"content\": response.choices[0].message.content})\n"
   ]
  },
  {
   "cell_type": "code",
   "execution_count": null,
   "id": "82289f1c",
   "metadata": {},
   "outputs": [],
   "source": []
  }
 ],
 "metadata": {
  "kernelspec": {
   "display_name": "Python 3 (ipykernel)",
   "language": "python",
   "name": "python3"
  },
  "language_info": {
   "codemirror_mode": {
    "name": "ipython",
    "version": 3
   },
   "file_extension": ".py",
   "mimetype": "text/x-python",
   "name": "python",
   "nbconvert_exporter": "python",
   "pygments_lexer": "ipython3",
   "version": "3.12.4"
  }
 },
 "nbformat": 4,
 "nbformat_minor": 5
}

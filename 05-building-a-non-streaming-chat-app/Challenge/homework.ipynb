{
 "cells": [
  {
   "cell_type": "code",
   "execution_count": null,
   "id": "1d4c6802-3031-42f2-893c-9a9cfa211259",
   "metadata": {},
   "outputs": [],
   "source": [
    "import os\n",
    "import openai\n",
    "openai.api_key = os.environ[\"OPENAI_API_KEY\"]\n"
   ]
  },
  {
   "cell_type": "code",
   "execution_count": null,
   "id": "f8e5f328-7c00-423c-840b-554dd841182e",
   "metadata": {},
   "outputs": [],
   "source": [
    "# 1\n",
    "%pip install -q requests\n",
    "\n",
    "# 2\n",
    "import requests\n",
    "\n",
    "# 3\n",
    "def get_text_from_url(url):\n",
    "    response = requests.get(url)\n",
    "    if response.status_code == 200:\n",
    "        return response.text\n",
    "    else:\n",
    "        return None\n",
    "\n",
    "# 4\n",
    "rfc_url = 'https://www.rfc-editor.org/rfc/rfc2549.html'\n",
    "print(get_text_from_url(rfc_url))"
   ]
  },
  {
   "cell_type": "code",
   "execution_count": null,
   "id": "82289f1c",
   "metadata": {},
   "outputs": [],
   "source": [
    "# 1\n",
    "%pip install -q openai==1.42.0\n",
    "%pip install -q pydantic\n",
    "\n",
    "# 2\n",
    "from pprint import pp\n",
    "from openai import OpenAI\n",
    "from pydantic import BaseModel\n",
    "\n",
    "# 3\n",
    "client = OpenAI()\n",
    "\n",
    "# 4\n",
    "class StructuredSummary(BaseModel):\n",
    "    facts: list[str]\n",
    "    analysis: list[str]\n",
    "    recommendations: list[str]\n",
    "\n",
    "# 5\n",
    "messages = [\n",
    "    {\n",
    "        \"role\": \"system\", \n",
    "        \"content\": \"Extract a structured summary of the text. The summary must be less than a few words. You should respond to follow up questions.\"\n",
    "    },\n",
    "]\n",
    "\n",
    "# 6\n",
    "def get_structured_summary(input):\n",
    "    messages.append({\"role\": \"user\", \"content\": input})\n",
    "\n",
    "    response = client.beta.chat.completions.parse(\n",
    "        model=\"gpt-4o-mini\",\n",
    "        messages=messages,\n",
    "        response_format=StructuredSummary\n",
    "    ) \n",
    "\n",
    "    return response.choices[0].message.parsed\n",
    "\n",
    "# 7\n",
    "pigeon_rfc = get_text_from_url(rfc_url)\n",
    "summary = get_structured_summary(pigeon_rfc)\n",
    "\n",
    "# 8\n",
    "import json\n",
    "print(json.dumps(summary.model_dump(), indent=4))\n"
   ]
  },
  {
   "cell_type": "code",
   "execution_count": null,
   "id": "b2771311",
   "metadata": {},
   "outputs": [],
   "source": [
    "# 1\n",
    "messages.append({\"role\": \"assistant\", \"content\": summary.model_dump_json()})\n",
    "\n",
    "# 2\n",
    "while True:\n",
    "    # 3\n",
    "    user_input = input(\"Please enter your input: \")\n",
    " \n",
    "    # 4\n",
    "    if user_input.lower() == 'exit':\n",
    "        break\n",
    "\n",
    "    # 5\n",
    "    summary = get_structured_summary(user_input)\n",
    "    print(json.dumps(summary.model_dump(), indent=4))\n",
    "\n",
    "    messages.append({\"role\": \"assistant\", \"content\": summary.model_dump_json()})\n"
   ]
  },
  {
   "cell_type": "code",
   "execution_count": null,
   "id": "ea17b737",
   "metadata": {},
   "outputs": [],
   "source": []
  }
 ],
 "metadata": {
  "kernelspec": {
   "display_name": "venv",
   "language": "python",
   "name": "venv"
  },
  "language_info": {
   "codemirror_mode": {
    "name": "ipython",
    "version": 3
   },
   "file_extension": ".py",
   "mimetype": "text/x-python",
   "name": "python",
   "nbconvert_exporter": "python",
   "pygments_lexer": "ipython3",
   "version": "3.12.4"
  }
 },
 "nbformat": 4,
 "nbformat_minor": 5
}

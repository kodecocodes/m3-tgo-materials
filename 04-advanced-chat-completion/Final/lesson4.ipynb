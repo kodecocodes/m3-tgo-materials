{
 "cells": [
  {
   "cell_type": "code",
   "execution_count": 43,
   "id": "1d4c6802-3031-42f2-893c-9a9cfa211259",
   "metadata": {},
   "outputs": [],
   "source": [
    "import os\n",
    "import openai\n",
    "openai.api_key = os.environ[\"OPENAI_API_KEY\"]\n",
    "model = \"gpt-4o-mini\""
   ]
  },
  {
   "cell_type": "code",
   "execution_count": 44,
   "id": "5fe359cd-1880-4005-a45d-fdf789c8c9a4",
   "metadata": {},
   "outputs": [],
   "source": [
    "from openai import OpenAI\n",
    "\n",
    "client = OpenAI()"
   ]
  },
  {
   "cell_type": "code",
   "execution_count": 45,
   "id": "f39d6962",
   "metadata": {},
   "outputs": [
    {
     "name": "stdout",
     "output_type": "stream",
     "text": [
      "{\n",
      "  \"isFactTrue\": false,\n",
      "  \"explanation\": \"White sand is primarily made up of small fragments of coral, shells, and other carbonate materials, rather than fish poop. While fish contribute to the marine ecosystem and some organic materials do get recycled into sediments, the claim that white sand is made specifically from fish poop is not accurate.\"\n",
      "}\n"
     ]
    }
   ],
   "source": [
    "messages = [\n",
    "    {\"role\": \"system\", \"content\": (\n",
    "        \"You are a fact checker. Verify the validity of the sentence provided by the user, given a reference. You must return a response in JSON format:\"\n",
    "        \"{'isFactTrue': <true or false>, 'explanation': <explanation> \")\n",
    "    },\n",
    "    {\"role\": \"user\", \"content\": \"White sand is made from fish poop https://oceanservice.noaa.gov/facts/sand.html\"}\n",
    "]\n",
    "\n",
    "response = client.chat.completions.create(\n",
    "  model=model,\n",
    "  messages=messages,\n",
    "  response_format={\"type\": \"json_object\"},\n",
    ")\n",
    "\n",
    "print(response.choices[0].message.content)"
   ]
  },
  {
   "cell_type": "code",
   "execution_count": 46,
   "id": "f8e5f328-7c00-423c-840b-554dd841182e",
   "metadata": {},
   "outputs": [],
   "source": [
    "import requests\n",
    "from bs4 import BeautifulSoup\n",
    "\n",
    "def get_text_from_url(url):\n",
    "    # response = requests.get(url)\n",
    "    # if response.status_code == 200:\n",
    "    #     soup = BeautifulSoup(response.content, 'html.parser')\n",
    "    #     return soup.get_text()\n",
    "    # else:\n",
    "    #     return \"Error: Unable to retrieve content\"\n",
    "    return '''The famous white-sand beaches of Hawaii, for example, actually come from the poop of parrotfish. The fish bite and scrape algae off of rocks and dead corals with their parrot-like beaks, grind up the inedible calcium-carbonate reef material (made mostly of coral skeletons) in their guts, and then excrete it as sand.'''"
   ]
  },
  {
   "cell_type": "code",
   "execution_count": 47,
   "id": "4bd22f31-2b3d-42bd-bd3a-d5571b47c938",
   "metadata": {},
   "outputs": [],
   "source": [
    "tools = [\n",
    "    {\n",
    "        \"type\": \"function\",\n",
    "        \"function\": {\n",
    "            \"name\": \"get_text_from_url\",\n",
    "            \"description\": \"Get the text contents of a url\",\n",
    "            \"parameters\": {\n",
    "                \"type\": \"object\",\n",
    "                \"properties\": {\n",
    "                    \"url\": {\n",
    "                        \"type\": \"string\",\n",
    "                        \"description\": \"The url\",\n",
    "                    },\n",
    "                },\n",
    "                \"required\": [\"url\"],\n",
    "            },\n",
    "        },\n",
    "    }\n",
    "]\n",
    "\n",
    "response = client.chat.completions.create(\n",
    "  model=model,\n",
    "  messages=messages,\n",
    "  tools=tools,\n",
    "  response_format={\"type\": \"json_object\"},\n",
    ")"
   ]
  },
  {
   "cell_type": "code",
   "execution_count": 48,
   "id": "71c42c30",
   "metadata": {},
   "outputs": [
    {
     "name": "stdout",
     "output_type": "stream",
     "text": [
      "ChatCompletion(id='chatcmpl-9ruaRBCDmSw2mu2AqCwHpUHyXipoA', choices=[Choice(finish_reason='tool_calls', index=0, logprobs=None, message=ChatCompletionMessage(content=None, role='assistant', function_call=None, tool_calls=[ChatCompletionMessageToolCall(id='call_GeVV69N5H7OXwKstSpIfqqCX', function=Function(arguments='{\"url\":\"https://oceanservice.noaa.gov/facts/sand.html\"}', name='get_text_from_url'), type='function')]))], created=1722635931, model='gpt-4o-mini-2024-07-18', object='chat.completion', service_tier=None, system_fingerprint='fp_0f03d4f0ee', usage=CompletionUsage(completion_tokens=28, prompt_tokens=120, total_tokens=148))\n"
     ]
    }
   ],
   "source": [
    "print(response)"
   ]
  },
  {
   "cell_type": "code",
   "execution_count": 49,
   "id": "df11d17c",
   "metadata": {},
   "outputs": [],
   "source": [
    "response_message = response.choices[0].message\n",
    "tool_calls = response_message.tool_calls\n"
   ]
  },
  {
   "cell_type": "code",
   "execution_count": 50,
   "id": "3d93b76e",
   "metadata": {},
   "outputs": [
    {
     "name": "stdout",
     "output_type": "stream",
     "text": [
      "ChatCompletion(id='chatcmpl-9ruaSSLuMYjzxuaFx13FUr3RDuad6', choices=[Choice(finish_reason='stop', index=0, logprobs=None, message=ChatCompletionMessage(content='{\\n  \"isFactTrue\": true,\\n  \"explanation\": \"The sentence is valid; white sand, particularly in Hawaii, is indeed made from the excrement of parrotfish, which grind and process calcium-carbonate materials from coral and then excrete it as sand.\"\\n}', role='assistant', function_call=None, tool_calls=None))], created=1722635932, model='gpt-4o-mini-2024-07-18', object='chat.completion', service_tier=None, system_fingerprint='fp_9b0abffe81', usage=CompletionUsage(completion_tokens=58, prompt_tokens=192, total_tokens=250))\n"
     ]
    }
   ],
   "source": [
    "import json\n",
    "\n",
    "if tool_calls:\n",
    "    available_functions = {\n",
    "        \"get_text_from_url\": get_text_from_url,\n",
    "    }\n",
    "    messages.append(response_message)  # extend conversation with assistant's reply\n",
    "    for tool_call in tool_calls:\n",
    "        function_name = tool_call.function.name\n",
    "        function_to_call = available_functions[function_name]\n",
    "        function_args = json.loads(tool_call.function.arguments)\n",
    "        function_response = function_to_call(\n",
    "            url=function_args.get(\"url\"),\n",
    "        )\n",
    "        messages.append(\n",
    "            {\n",
    "                \"tool_call_id\": tool_call.id,\n",
    "                \"role\": \"tool\",\n",
    "                \"name\": function_name,\n",
    "                \"content\": function_response,\n",
    "            }\n",
    "        ) \n",
    "    second_response = client.chat.completions.create(\n",
    "        model=\"gpt-4o-mini\",\n",
    "        messages=messages,\n",
    "    ) \n",
    "\n",
    "print(second_response)"
   ]
  },
  {
   "cell_type": "code",
   "execution_count": 51,
   "id": "51674304",
   "metadata": {},
   "outputs": [
    {
     "name": "stdout",
     "output_type": "stream",
     "text": [
      "{\n",
      "  \"isFactTrue\": true,\n",
      "  \"explanation\": \"The sentence is valid; white sand, particularly in Hawaii, is indeed made from the excrement of parrotfish, which grind and process calcium-carbonate materials from coral and then excrete it as sand.\"\n",
      "}\n"
     ]
    }
   ],
   "source": [
    "print(second_response.choices[0].message.content)"
   ]
  },
  {
   "cell_type": "code",
   "execution_count": null,
   "id": "f741d420",
   "metadata": {},
   "outputs": [],
   "source": []
  }
 ],
 "metadata": {
  "kernelspec": {
   "display_name": "Python 3 (ipykernel)",
   "language": "python",
   "name": "python3"
  },
  "language_info": {
   "codemirror_mode": {
    "name": "ipython",
    "version": 3
   },
   "file_extension": ".py",
   "mimetype": "text/x-python",
   "name": "python",
   "nbconvert_exporter": "python",
   "pygments_lexer": "ipython3",
   "version": "3.12.4"
  }
 },
 "nbformat": 4,
 "nbformat_minor": 5
}

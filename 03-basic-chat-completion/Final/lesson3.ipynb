{
 "cells": [
  {
   "cell_type": "code",
   "execution_count": null,
   "id": "c27091d8-d5a7-4e4f-942a-e638e927279a",
   "metadata": {},
   "outputs": [],
   "source": [
    "%pip install openai"
   ]
  },
  {
   "cell_type": "code",
   "execution_count": 1,
   "id": "4bd22f31-2b3d-42bd-bd3a-d5571b47c938",
   "metadata": {},
   "outputs": [],
   "source": [
    "import os\n",
    "import openai\n",
    "openai.api_key = os.environ[\"OPENAI_API_KEY\"]"
   ]
  },
  {
   "cell_type": "code",
   "execution_count": 2,
   "id": "3aa2f256-86f9-41bd-974f-ac2ba939b409",
   "metadata": {},
   "outputs": [],
   "source": [
    "from openai import OpenAI\n",
    "\n",
    "client = OpenAI()\n",
    "\n",
    "response = client.chat.completions.create(\n",
    "  model=\"gpt-4o-mini\",\n",
    "  messages=[\n",
    "    {\"role\": \"user\", \"content\": \"Write hello world in python\"}\n",
    "  ]\n",
    ")"
   ]
  },
  {
   "cell_type": "code",
   "execution_count": 4,
   "id": "5ca8e9a7-644c-41d6-9500-182d4644e549",
   "metadata": {},
   "outputs": [
    {
     "name": "stdout",
     "output_type": "stream",
     "text": [
      "Certainly! Here's a simple \"Hello, World!\" program in Python:\n",
      "\n",
      "```python\n",
      "print(\"Hello, World!\")\n",
      "```\n",
      "\n",
      "You can run this code in any Python environment, and it will display the message \"Hello, World!\" on the screen.\n"
     ]
    }
   ],
   "source": [
    "print(response.choices[0].message.content)"
   ]
  },
  {
   "cell_type": "code",
   "execution_count": 9,
   "id": "37e5e6d9-2936-47cf-bcd6-bcee0bc85e5a",
   "metadata": {},
   "outputs": [
    {
     "name": "stdout",
     "output_type": "stream",
     "text": [
      "Certainly! Here is a simple \"Hello, World!\" program in Python:\n",
      "\n",
      "```python\n",
      "print(\"Hello, World!\")\n",
      "```\n",
      "\n",
      "When you run this code, it will output:\n",
      "\n",
      "```\n",
      "Hello, World!\n",
      "```"
     ]
    }
   ],
   "source": [
    "response = client.chat.completions.create(\n",
    "  model=\"gpt-4o-mini\",\n",
    "  messages=[\n",
    "    {\"role\": \"user\", \"content\": \"Write hello world in python\"}\n",
    "  ],\n",
    "  stream=True\n",
    ")\n",
    "\n",
    "def print_chunks(response):\n",
    "    for chunk in response:\n",
    "        if chunk.choices[0].delta.content:\n",
    "            print(chunk.choices[0].delta.content, end=\"\", flush=True)\n",
    "\n",
    "print_chunks(response)"
   ]
  },
  {
   "cell_type": "code",
   "execution_count": 10,
   "id": "c1184c22-d57b-427e-b450-2676aa4a1e13",
   "metadata": {},
   "outputs": [
    {
     "name": "stdout",
     "output_type": "stream",
     "text": [
      "Certainly! The simplest way to print \"Hello, World!\" in Python is:\n",
      "\n",
      "```python\n",
      "print(\"Hello, World!\")\n",
      "```\n",
      "\n",
      "You can run this code in any Python environment to see the output."
     ]
    }
   ],
   "source": [
    "try:\n",
    "  response = client.chat.completions.create(\n",
    "      model=\"gpt-4o-mini\",\n",
    "      messages=[\n",
    "        {\"role\": \"user\", \"content\": \"Write hello world in python\"}\n",
    "      ],\n",
    "      stream=True\n",
    "  )\n",
    "  print_chunks(response)\n",
    "except openai.APIError as e:\n",
    "  print(f\"API Error: {e}\")\n",
    "  pass\n",
    "except openai.APIConnectionError as e:\n",
    "  print(f\"Failed to connect: {e}\")\n",
    "  pass\n",
    "except openai.RateLimitError as e:\n",
    "  print(f\"Rate limit exceeded: {e}\")\n",
    "  pass"
   ]
  },
  {
   "cell_type": "code",
   "execution_count": null,
   "id": "d6c0d4ea-e841-4293-815b-0967ffff1894",
   "metadata": {},
   "outputs": [],
   "source": []
  }
 ],
 "metadata": {
  "kernelspec": {
   "display_name": "Python 3 (ipykernel)",
   "language": "python",
   "name": "python3"
  },
  "language_info": {
   "codemirror_mode": {
    "name": "ipython",
    "version": 3
   },
   "file_extension": ".py",
   "mimetype": "text/x-python",
   "name": "python",
   "nbconvert_exporter": "python",
   "pygments_lexer": "ipython3",
   "version": "3.12.4"
  }
 },
 "nbformat": 4,
 "nbformat_minor": 5
}
